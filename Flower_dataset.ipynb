{
  "cells": [
    {
      "cell_type": "markdown",
      "metadata": {
        "id": "view-in-github",
        "colab_type": "text"
      },
      "source": [
        "<a href=\"https://colab.research.google.com/github/abdulrehman1215/Image-Classification-using-SIFT-And-Machine-Learning/blob/main/Flower_dataset.ipynb\" target=\"_parent\"><img src=\"https://colab.research.google.com/assets/colab-badge.svg\" alt=\"Open In Colab\"/></a>"
      ]
    },
    {
      "cell_type": "markdown",
      "source": [
        "# Import Libraries"
      ],
      "metadata": {
        "id": "Zeoe1mclMaZD"
      }
    },
    {
      "cell_type": "code",
      "source": [
        "import os\n",
        "import cv2\n",
        "import numpy as np\n",
        "from sklearn.svm import SVC\n",
        "from sklearn.cluster import KMeans\n",
        "from sklearn.metrics import accuracy_score, f1_score, ConfusionMatrixDisplay, confusion_matrix\n",
        "from sklearn.preprocessing import normalize\n",
        "from sklearn.ensemble import RandomForestClassifier\n",
        "from matplotlib import pyplot as plt\n"
      ],
      "metadata": {
        "id": "l2Uo5elVWQsm"
      },
      "execution_count": null,
      "outputs": []
    },
    {
      "cell_type": "markdown",
      "source": [
        "# Load Dataset"
      ],
      "metadata": {
        "id": "DRHQHR2famPJ"
      }
    },
    {
      "cell_type": "code",
      "source": [
        "# Load the dataset\n",
        "dir = '/content/drive/MyDrive/flower_photos/flower_photos/'\n",
        "\n",
        "images = []\n",
        "labels = []\n",
        "classes = os.listdir(dir)"
      ],
      "metadata": {
        "id": "fm4XGRr-WUEs"
      },
      "execution_count": null,
      "outputs": []
    },
    {
      "cell_type": "code",
      "source": [
        "for label in os.listdir(dir):\n",
        "    for img_file in os.listdir(dir + label):\n",
        "        img = cv2.imread(os.path.join(dir, label, img_file))\n",
        "        images.append(img)\n",
        "        labels.append(label)"
      ],
      "metadata": {
        "id": "2iP2D7PLjAwQ"
      },
      "execution_count": null,
      "outputs": []
    },
    {
      "cell_type": "code",
      "source": [
        "train_images,test_images, train_labels, test_labels = train_test_split(images, labels, test_size=0.2, random_state=42, shuffle = True)"
      ],
      "metadata": {
        "id": "ZgO8N-SMmW6g"
      },
      "execution_count": null,
      "outputs": []
    },
    {
      "cell_type": "markdown",
      "source": [
        "# Extract SIFT Features"
      ],
      "metadata": {
        "id": "uoU9fpjjMhg3"
      }
    },
    {
      "cell_type": "code",
      "source": [
        "# Extract SIFT features\n",
        "sift = cv2.xfeatures2d.SIFT_create()"
      ],
      "metadata": {
        "id": "kocM20zmjWFo"
      },
      "execution_count": null,
      "outputs": []
    },
    {
      "cell_type": "code",
      "source": [
        "train_descriptors = []\n",
        "for img in train_images:\n",
        "    gray = cv2.cvtColor(img, cv2.COLOR_BGR2GRAY)\n",
        "    keypoints, descriptors = sift.detectAndCompute(gray, None)\n",
        "    train_descriptors.append(descriptors)\n",
        "np.vstack(train_descriptors).shape"
      ],
      "metadata": {
        "id": "hCX_F_Cjllyz"
      },
      "execution_count": null,
      "outputs": []
    },
    {
      "cell_type": "markdown",
      "source": [
        "# Build Visual Vocabulary"
      ],
      "metadata": {
        "id": "sl7B_FA2NUJU"
      }
    },
    {
      "cell_type": "code",
      "source": [
        "# Cluster SIFT descriptors into visual words\n",
        "kmeans = KMeans(n_clusters=200)\n",
        "kmeans.fit(np.vstack(train_descriptors))"
      ],
      "metadata": {
        "id": "HBMF4nIknrFD"
      },
      "execution_count": null,
      "outputs": []
    },
    {
      "cell_type": "code",
      "source": [
        "# Generate histograms for each image using the visual words\n",
        "train_histograms = []\n",
        "for descriptors in train_descriptors:\n",
        "    visual_words = kmeans.predict(descriptors)\n",
        "    histogram, _ = np.histogram(visual_words, bins=np.arange(101))\n",
        "    train_histograms.append(normalize(histogram.reshape(1, -1)))"
      ],
      "metadata": {
        "id": "PvOmDuPvnw0F"
      },
      "execution_count": null,
      "outputs": []
    },
    {
      "cell_type": "code",
      "source": [
        "test_descriptors = []\n",
        "for img in test_images:\n",
        "    gray = cv2.cvtColor(img, cv2.COLOR_BGR2GRAY)\n",
        "    keypoints, descriptors = sift.detectAndCompute(gray, None)\n",
        "    test_descriptors.append(descriptors)"
      ],
      "metadata": {
        "id": "QXTezYg8nTHi"
      },
      "execution_count": null,
      "outputs": []
    },
    {
      "cell_type": "code",
      "source": [
        "test_histograms = []\n",
        "for descriptors in test_descriptors:\n",
        "    visual_words = kmeans.predict(descriptors)\n",
        "    histogram, _ = np.histogram(visual_words, bins=np.arange(101))\n",
        "    test_histograms.append(normalize(histogram.reshape(1, -1)))"
      ],
      "metadata": {
        "id": "0Va7F7QWn8Ql"
      },
      "execution_count": null,
      "outputs": []
    },
    {
      "cell_type": "markdown",
      "source": [
        "# Random Forest Classifier"
      ],
      "metadata": {
        "id": "NQTic1aENe2t"
      }
    },
    {
      "cell_type": "code",
      "source": [
        "# Train Random Forest model\n",
        "rf = RandomForestClassifier(n_estimators=100, random_state=42)\n",
        "rf.fit(np.vstack(train_histograms), train_labels)\n",
        "\n",
        "\n",
        "# Predict using Random Forest model\n",
        "rf_predictions = rf.predict(np.vstack(test_histograms))\n",
        "rf_accuracy = accuracy_score(test_labels, rf_predictions)\n",
        "print(\"Random Forest Accuracy:\", rf_accuracy)\n",
        "\n",
        "\n",
        "rf_f1 = f1_score(test_labels, rf_predictions, average='weighted')\n",
        "print(\"Weighted Random Forest F-1 Score:\", rf_f1)"
      ],
      "metadata": {
        "id": "dPNvO-zPpKkS"
      },
      "execution_count": null,
      "outputs": []
    },
    {
      "cell_type": "code",
      "source": [
        "fig,ax = plt.subplots(figsize = (6,6))\n",
        "\n",
        "# Create confusion matrix\n",
        "cm_rf = confusion_matrix(test_labels, rf_predictions)\n",
        "cm_display_rf = ConfusionMatrixDisplay(confusion_matrix = cm_rf, display_labels = classes)\n",
        "\n",
        "cm_display_rf.plot(ax=ax)\n",
        "plt.title(\"Flowers Dataset: Random Forest Classifier\")\n",
        "plt.xlabel(\"Predicted Label\")\n",
        "plt.ylabel(\"True Label\")\n",
        "plt.show()"
      ],
      "metadata": {
        "id": "N1OHTFAvOZYu"
      },
      "execution_count": null,
      "outputs": []
    },
    {
      "cell_type": "code",
      "source": [
        "FP_rf = cm_rf.sum(axis = 0) - np.diag(cm_rf)\n",
        "FN_rf = cm_rf.sum(axis = 1) - np.diag(cm_rf)\n",
        "TP_rf = np.diag(cm_rf)\n",
        "TN_rf = cm_rf.sum() - (FP_rf + FN_rf + TP_rf)\n",
        "\n",
        "print('Random Forest False Positive:',FP_rf)\n",
        "print('Random Forest False Negative:',FN_rf)\n",
        "print('Random Forest True Positive:',TP_rf)\n",
        "print('Random Forest True Negative:',TN_rf)"
      ],
      "metadata": {
        "id": "X3xGS-GmOwMJ"
      },
      "execution_count": null,
      "outputs": []
    },
    {
      "cell_type": "code",
      "source": [
        "TPR_rf = TP_rf/(FN_rf + TP_rf)\n",
        "FPR_rf = FP_rf/ (FN_rf + TP_rf)\n",
        "print('Random Forest False Positive Rate:',FPR_rf)\n",
        "print('Random Forest True Positive Rate:',TPR_rf)"
      ],
      "metadata": {
        "id": "JonMiRoUO6Xc"
      },
      "execution_count": null,
      "outputs": []
    },
    {
      "cell_type": "markdown",
      "source": [
        "# SVM Classifier"
      ],
      "metadata": {
        "id": "_ykmbhYwNy2z"
      }
    },
    {
      "cell_type": "code",
      "source": [
        "# Train SVM model\n",
        "svm = SVC(kernel='linear')\n",
        "svm.fit(np.vstack(train_histograms), train_labels)\n",
        "\n",
        "\n",
        "# Predict using SVM model\n",
        "svm_predictions = svm.predict(np.vstack(test_histograms))\n",
        "svm_accuracy = accuracy_score(test_labels, svm_predictions)\n",
        "svm_f1 = f1_score(test_labels, svm_predictions, average='weighted')\n",
        "print(\"SVM Accuracy:\", svm_accuracy)\n",
        "print(\"Weighted SVM F-1 Score:\", svm_f1)"
      ],
      "metadata": {
        "id": "JUU3ZCMcpM1V"
      },
      "execution_count": null,
      "outputs": []
    },
    {
      "cell_type": "code",
      "source": [
        "fig,ax = plt.subplots(figsize = (6,6))\n",
        "\n",
        "# Create confusion matrix\n",
        "cm = confusion_matrix(test_labels, svm_predictions)\n",
        "cm_display = ConfusionMatrixDisplay(confusion_matrix = cm, display_labels = classes)\n",
        "\n",
        "cm_display.plot(ax=ax)\n",
        "plt.title(\"Flower DataSet: SVM Classifier\")\n",
        "plt.xlabel(\"Predicted Label\")\n",
        "plt.ylabel(\"True Label\")\n",
        "plt.show()"
      ],
      "metadata": {
        "id": "SaGOvBfzPQU6"
      },
      "execution_count": null,
      "outputs": []
    },
    {
      "cell_type": "code",
      "source": [
        "FP = cm.sum(axis = 0) - np.diag(cm)\n",
        "FN = cm.sum(axis = 1) - np.diag(cm)\n",
        "TP = np.diag(cm)\n",
        "TN = cm.sum() - (FP + FN + TP)\n",
        "\n",
        "print('SVM False Positive:',FP)\n",
        "print('SVM False Negative:',FN)\n",
        "print('SVM True Positive:',TP)\n",
        "print('SVM True Negative:',TN)"
      ],
      "metadata": {
        "id": "xwGzFg3bPUBj"
      },
      "execution_count": null,
      "outputs": []
    },
    {
      "cell_type": "code",
      "source": [
        "TPR = TP/(FN + TP)\n",
        "FPR = FP/ (FN + TP)\n",
        "print('SVM False Positive Rate:',FPR)\n",
        "print('SVM True Positive Rate:',TPR)"
      ],
      "metadata": {
        "id": "3hBGeHuzPYp7"
      },
      "execution_count": null,
      "outputs": []
    },
    {
      "cell_type": "markdown",
      "source": [
        "# Saving Model (Optional)"
      ],
      "metadata": {
        "id": "rskQsoxqN-oN"
      }
    },
    {
      "cell_type": "code",
      "source": [
        "# import pickle\n",
        "\n",
        "# with open(\"/content/drive/MyDrive/kmeans_200.pkl\", \"rb\") as f:\n",
        "#     model = pickle.load(f)"
      ],
      "metadata": {
        "id": "Ji25Sy0duY8g"
      },
      "execution_count": null,
      "outputs": []
    },
    {
      "cell_type": "code",
      "source": [
        "# with open(\"/content/drive/MyDrive/kmeans_200.pkl\", \"wb\") as f:\n",
        "#     pickle.dump(kmeans, f)"
      ],
      "metadata": {
        "id": "r6fe00SOunEH"
      },
      "execution_count": null,
      "outputs": []
    }
  ],
  "metadata": {
    "colab": {
      "private_outputs": true,
      "provenance": [],
      "mount_file_id": "1C4wMqheNLJ4TNE1RkXp8woMfKd9w7O7R",
      "authorship_tag": "ABX9TyPv270XANA2IHHmx2d0xESt",
      "include_colab_link": true
    },
    "gpuClass": "standard",
    "kernelspec": {
      "display_name": "Python 3",
      "name": "python3"
    },
    "language_info": {
      "name": "python"
    }
  },
  "nbformat": 4,
  "nbformat_minor": 0
}